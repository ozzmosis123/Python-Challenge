{
 "cells": [
  {
   "cell_type": "code",
   "execution_count": 1,
   "metadata": {},
   "outputs": [],
   "source": [
    "import os\n",
    "import csv"
   ]
  },
  {
   "cell_type": "code",
   "execution_count": 2,
   "metadata": {},
   "outputs": [],
   "source": [
    "# create variable for the path where csv file is located\n",
    "budget_data = os.path.join('C:/', 'Users', 'Ozzmo', 'Documents', 'budget_data.csv')"
   ]
  },
  {
   "cell_type": "code",
   "execution_count": 3,
   "metadata": {},
   "outputs": [],
   "source": [
    "# Lists where csv rows will be added to\n",
    "date = []\n",
    "profitloss = []"
   ]
  },
  {
   "cell_type": "code",
   "execution_count": 4,
   "metadata": {},
   "outputs": [],
   "source": [
    "# opening the csv file in reader mode\n",
    "with open (budget_data, newline=\"\") as csvfile:\n",
    "    csvreader = csv.reader(csvfile, delimiter=\",\")\n",
    "    header = next(csvreader)\n",
    "    # appending the rows to the lists above\n",
    "    for row in csvreader:\n",
    "        date.append(row[0])\n",
    "        profitloss.append(row[1])"
   ]
  },
  {
   "cell_type": "code",
   "execution_count": 5,
   "metadata": {},
   "outputs": [],
   "source": [
    "# using the len function to count number of rows\n",
    "month_count = len(profitloss)"
   ]
  },
  {
   "cell_type": "code",
   "execution_count": 6,
   "metadata": {},
   "outputs": [],
   "source": [
    "# using the sum function in a for loop to get the net total \n",
    "total = sum([int(row) for row in profitloss])"
   ]
  },
  {
   "cell_type": "code",
   "execution_count": 7,
   "metadata": {},
   "outputs": [],
   "source": [
    "# a for loop to subtract the current value in profitloss list from the previous value\n",
    "difference = []\n",
    "previous = 0\n",
    "\n",
    "for row in profitloss:\n",
    "    diff = int(row) - previous\n",
    "    difference.append(diff)\n",
    "    previous = int(row)"
   ]
  },
  {
   "cell_type": "code",
   "execution_count": 8,
   "metadata": {
    "scrolled": true
   },
   "outputs": [],
   "source": [
    "# divide the sum of difference by length of profitloss for the average\n",
    "average = round(sum(difference[1:]) / len(profitloss[1:]),2)"
   ]
  },
  {
   "cell_type": "code",
   "execution_count": 9,
   "metadata": {},
   "outputs": [
    {
     "name": "stdout",
     "output_type": "stream",
     "text": [
      "Feb-2012\n",
      "Sep-2013\n"
     ]
    }
   ],
   "source": [
    "# zip two lists together and convert to dictinary to have key/value pairs that match dates with profitloss\n",
    "dictionary = dict(zip(date, difference))\n",
    "# Getting key with maximum and mininum value in dictionary\n",
    "increase = max(dictionary, key=dictionary.get)\n",
    "decrease = min(dictionary, key=dictionary.get)\n",
    "print(increase)\n",
    "print(decrease)"
   ]
  },
  {
   "cell_type": "code",
   "execution_count": 10,
   "metadata": {},
   "outputs": [],
   "source": [
    "# accessing the keys in the dictionary to get the highest and lowest profit/loss values\n",
    "increase_month = dictionary['Feb-2012']\n",
    "decrease_month = dictionary['Sep-2013']"
   ]
  },
  {
   "cell_type": "code",
   "execution_count": 11,
   "metadata": {
    "scrolled": true
   },
   "outputs": [
    {
     "name": "stdout",
     "output_type": "stream",
     "text": [
      "Financial Analysis \n",
      "_______________________________ \n",
      "Total Months: 86 \n",
      "Total: $38382578\n",
      "Average Change: $-2315.12 \n",
      "Greatest Increase in Profits: Feb-2012 ($1926159)\n",
      "Greatest Decrease in Profits: Sep-2013 ($-2196167)\n"
     ]
    }
   ],
   "source": [
    "# print results to terminal\n",
    "print(f\"Financial Analysis \\n_______________________________ \\nTotal Months: {month_count} \\nTotal: ${total}\") \n",
    "print(f\"Average Change: ${average} \\nGreatest Increase in Profits: {increase} (${increase_month})\")\n",
    "print(f\"Greatest Decrease in Profits: {decrease} (${decrease_month})\")"
   ]
  },
  {
   "cell_type": "code",
   "execution_count": 12,
   "metadata": {},
   "outputs": [],
   "source": [
    "# output results to a text file\n",
    "output_file = os.path.join(\"PyBankFinal.txt\")\n",
    "with open(output_file, 'w') as file_object:\n",
    "    file_object.write(f\"Financial Analysis \\n_______________________________ \\nTotal Months: {month_count} \\nTotal: ${total} \\n\") \n",
    "    file_object.write(f\"Average Change: ${average} \\nGreatest Increase in Profits: {increase} (${increase_month}) \\n\")\n",
    "    file_object.write(f\"Greatest Decrease in Profits: {decrease} (${decrease_month})\")"
   ]
  },
  {
   "cell_type": "code",
   "execution_count": null,
   "metadata": {},
   "outputs": [],
   "source": []
  }
 ],
 "metadata": {
  "kernelspec": {
   "display_name": "Python 3",
   "language": "python",
   "name": "python3"
  },
  "language_info": {
   "codemirror_mode": {
    "name": "ipython",
    "version": 3
   },
   "file_extension": ".py",
   "mimetype": "text/x-python",
   "name": "python",
   "nbconvert_exporter": "python",
   "pygments_lexer": "ipython3",
   "version": "3.7.4"
  }
 },
 "nbformat": 4,
 "nbformat_minor": 2
}
