{
 "cells": [
  {
   "cell_type": "code",
   "execution_count": 1,
   "metadata": {},
   "outputs": [],
   "source": [
    "import os\n",
    "import csv"
   ]
  },
  {
   "cell_type": "code",
   "execution_count": 2,
   "metadata": {},
   "outputs": [],
   "source": [
    "# create variable for the path where csv file is located \n",
    "election_data = os.path.join('C:/', 'Users', 'Ozzmo', 'Documents', 'election_data.csv')                         "
   ]
  },
  {
   "cell_type": "code",
   "execution_count": 3,
   "metadata": {},
   "outputs": [],
   "source": [
    "# Lists where csv rows will be added to\n",
    "voterid = []\n",
    "county = []\n",
    "candidate = []"
   ]
  },
  {
   "cell_type": "code",
   "execution_count": 4,
   "metadata": {},
   "outputs": [],
   "source": [
    "# opening the csv file in reader mode\n",
    "with open (election_data, newline=\"\") as csvfile:\n",
    "    csvreader = csv.reader(csvfile, delimiter=\",\")\n",
    "    header = next(csvreader)\n",
    "    # appending the rows to the lists above\n",
    "    for row in csvreader:\n",
    "        voterid.append(row[0])\n",
    "        county.append(row[1])\n",
    "        candidate.append(row[2])"
   ]
  },
  {
   "cell_type": "code",
   "execution_count": 5,
   "metadata": {},
   "outputs": [],
   "source": [
    "# using the len function to count number of rows\n",
    "vote_count = len(voterid)"
   ]
  },
  {
   "cell_type": "code",
   "execution_count": 6,
   "metadata": {},
   "outputs": [
    {
     "name": "stdout",
     "output_type": "stream",
     "text": [
      "['Khan', 'Li', \"O'Tooley\", 'Correy']\n"
     ]
    }
   ],
   "source": [
    "# defined and called a function that selects, lists, and prints unique values\n",
    "def the_list():\n",
    "    candidate_set = set(candidate)\n",
    "    unique_cand = print(list(candidate_set))\n",
    "\n",
    "the_list()"
   ]
  },
  {
   "cell_type": "code",
   "execution_count": 7,
   "metadata": {},
   "outputs": [],
   "source": [
    "# used count method to add values and stored in a new list\n",
    "Khan = candidate.count(\"Khan\")\n",
    "OTooley = candidate.count(\"O'Tooley\")\n",
    "Li = candidate.count(\"Li\")\n",
    "Correy = candidate.count(\"Correy\")\n",
    "cand_votes = [Khan, OTooley, Li, Correy]"
   ]
  },
  {
   "cell_type": "code",
   "execution_count": 8,
   "metadata": {},
   "outputs": [],
   "source": [
    "# looped through cand_votes to get percentage and formatted before adding to a new list\n",
    "percent = []\n",
    "for x in cand_votes:\n",
    "    dec = x / vote_count\n",
    "    perc = \"{:.3%}\".format(dec)\n",
    "    percent.append(perc)"
   ]
  },
  {
   "cell_type": "code",
   "execution_count": 9,
   "metadata": {},
   "outputs": [],
   "source": [
    "# created a dictionary within a dictionary of results\n",
    "final = {\"Khan\": {\"percent\":percent[0], \"votes\":cand_votes[0]}, \"OTooley\": {\"percent\":percent[1], \"votes\":cand_votes[1]},\n",
    "        \"Li\": {\"percent\": percent[2], \"votes\":cand_votes[2]}, \"Correy\": {\"percent\": percent[3], \"votes\":cand_votes[3]}}"
   ]
  },
  {
   "cell_type": "code",
   "execution_count": 10,
   "metadata": {},
   "outputs": [],
   "source": [
    "# defined and called a function that zips two lists into a dictionary that returns the biggest value\n",
    "def winner(*candidates):\n",
    "    highest = dict(zip(candidates, cand_votes))\n",
    "    biggest = max(highest, key=highest.get)\n",
    "    return biggest\n",
    "\n",
    "the_one = winner(\"Khan\", \"O'Tooley\", \"Li\", \"Correy\")"
   ]
  },
  {
   "cell_type": "code",
   "execution_count": 11,
   "metadata": {},
   "outputs": [
    {
     "name": "stdout",
     "output_type": "stream",
     "text": [
      "Election Results \n",
      "_____________________________ \n",
      "Total Votes: 3521001 \n",
      "_____________________________\n",
      "\n",
      "Khan: 63.000% (2218231)\n",
      "Correy: 20.000% (704200)\n",
      "Li: 14.000% (492940)\n",
      "O'Tooley: 3.000% (105630)\n",
      "_____________________________ \n",
      "Winner: Khan \n",
      "_____________________________\n"
     ]
    }
   ],
   "source": [
    "# print results to terminal\n",
    "print(f\"Election Results \\n_____________________________ \\nTotal Votes: {vote_count} \\n_____________________________\\n\")\n",
    "print(f\"Khan: {final['Khan']['percent']} ({final['Khan']['votes']})\")\n",
    "print(f\"Correy: {final['Correy']['percent']} ({final['Correy']['votes']})\")\n",
    "print(f\"Li: {final['Li']['percent']} ({final['Li']['votes']})\")\n",
    "print(f\"O'Tooley: {final['OTooley']['percent']} ({final['OTooley']['votes']})\")\n",
    "print(f\"_____________________________ \\nWinner: {the_one} \\n_____________________________\")"
   ]
  },
  {
   "cell_type": "code",
   "execution_count": 12,
   "metadata": {},
   "outputs": [],
   "source": [
    "# output results to a text file\n",
    "output_file = os.path.join(\"PyPollFinal.txt\")\n",
    "with open(output_file, 'w') as file_object:\n",
    "    file_object.write(f\"Election Results \\n_____________________________ \\nTotal Votes: {vote_count} \\n_____________________________\\n\")\n",
    "    file_object.write(f\"Khan: {final['Khan']['percent']} ({final['Khan']['votes']})\\n\")\n",
    "    file_object.write(f\"Correy: {final['Correy']['percent']} ({final['Correy']['votes']})\\n\")\n",
    "    file_object.write(f\"Li: {final['Li']['percent']} ({final['Li']['votes']})\\n\")\n",
    "    file_object.write(f\"O'Tooley: {final['OTooley']['percent']} ({final['OTooley']['votes']})\\n\")\n",
    "    file_object.write(f\"_____________________________ \\nWinner: {the_one} \\n_____________________________\")"
   ]
  },
  {
   "cell_type": "code",
   "execution_count": null,
   "metadata": {},
   "outputs": [],
   "source": []
  }
 ],
 "metadata": {
  "kernelspec": {
   "display_name": "Python 3",
   "language": "python",
   "name": "python3"
  },
  "language_info": {
   "codemirror_mode": {
    "name": "ipython",
    "version": 3
   },
   "file_extension": ".py",
   "mimetype": "text/x-python",
   "name": "python",
   "nbconvert_exporter": "python",
   "pygments_lexer": "ipython3",
   "version": "3.7.4"
  }
 },
 "nbformat": 4,
 "nbformat_minor": 2
}
